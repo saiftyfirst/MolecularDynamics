{
 "cells": [
  {
   "cell_type": "code",
   "execution_count": 1,
   "metadata": {},
   "outputs": [],
   "source": [
    "import numpy as np"
   ]
  },
  {
   "cell_type": "code",
   "execution_count": 2,
   "metadata": {},
   "outputs": [],
   "source": [
    "import utils\n",
    "\n",
    "# testing get_successor\n",
    "\n",
    "neighbors = utils.get_successor_neighbor_delta_coordinate(1)\n",
    "assert len(neighbors) == 1\n",
    "\n",
    "neighbors = utils.get_successor_neighbor_delta_coordinate(2)\n",
    "assert len(neighbors) == 4\n",
    "\n",
    "neighbors = utils.get_successor_neighbor_delta_coordinate(3)\n",
    "assert len(neighbors) == 9\n",
    "\n",
    "neighbors = np.array(utils.get_successor_neighbor_delta_coordinate(4))\n",
    "range_check = [elem[0] > 0 and elem[0] < 5 and elem[0] > 0 and elem[0] < 5 for elem in neighbors]\n",
    "assert np.all(range_check) == True\n",
    "assert len(neighbors) == 15"
   ]
  },
  {
   "cell_type": "code",
   "execution_count": 3,
   "metadata": {},
   "outputs": [],
   "source": [
    "import cell_1\n",
    "\n",
    "# test create_neighbor_cell_index\n",
    "\n",
    "# domain = 1\n",
    "r_c = 1 / 3\n",
    "a = 2\n",
    "\n",
    "lx = 0.5\n",
    "ly = 1 / 3\n",
    "cell_index = 15\n",
    "expected_result = np.array([16, 14, 21, 9, 17, 13, 27, 3, 22, 28, 23, 29, 20, 26, 19, 25, 8, 2, 7, 1, 10, 4, 11, 5])\n",
    "neighbor_delta_coordinate = utils.get_successor_neighbor_delta_coordinate(a)\n",
    "test_cell = cell_1.Cell_1(lx, ly, r_c, cell_index, neighbor_delta_coordinate, a)\n",
    "neighbor_index = test_cell.neighbor_cell_index\n",
    "assert np.array_equiv(np.sort(neighbor_index,axis=0), np.sort(expected_result, axis=0)) == True\n",
    " \n",
    "lx = 0.5 + 1/6\n",
    "ly = 1 / 3\n",
    "cell_index = 16\n",
    "expected_result = np.array([17, 15, 22, 10, 14, 28, 4, 23, 29, 21, 27, 20, 26, 9, 3, 8, 2, 11, 5])\n",
    "neighbor_delta_coordinate = utils.get_successor_neighbor_delta_coordinate(a)\n",
    "test_cell = cell_1.Cell_1(lx, ly, r_c, cell_index, neighbor_delta_coordinate, a)\n",
    "neighbor_index = test_cell.neighbor_cell_index\n",
    "assert np.array_equiv(np.sort(neighbor_index,axis=0), np.sort(expected_result, axis=0)) == True\n",
    "\n",
    "lx = 0.5\n",
    "ly = 0\n",
    "cell_index = 3\n",
    "expected_result = np.array([4, 2, 9, 5, 1, 15, 10, 16, 11, 17, 8, 14, 7, 13])\n",
    "neighbor_delta_coordinate = utils.get_successor_neighbor_delta_coordinate(a)\n",
    "test_cell = cell_1.Cell_1(lx, ly, r_c, cell_index, neighbor_delta_coordinate, a)\n",
    "neighbor_index = test_cell.neighbor_cell_index\n",
    "assert np.array_equiv(np.sort(neighbor_index,axis=0), np.sort(expected_result, axis=0)) == True\n",
    "\n",
    "lx = 0.5\n",
    "ly = 1 - 1 / 6\n",
    "cell_index = 33\n",
    "expected_result = np.array([34, 32, 27, 35, 31, 21, 26, 20, 25, 19, 28, 22, 29, 23])\n",
    "neighbor_delta_coordinate = utils.get_successor_neighbor_delta_coordinate(a)\n",
    "test_cell = cell_1.Cell_1(lx, ly, r_c, cell_index, neighbor_delta_coordinate, a)\n",
    "neighbor_index = test_cell.neighbor_cell_index\n",
    "assert np.array_equiv(np.sort(neighbor_index,axis=0), np.sort(expected_result, axis=0)) == True\n",
    "\n",
    "lx = 0\n",
    "ly = 1 - 1 / 6\n",
    "cell_index = 30\n",
    "expected_result = np.array([31, 24, 32, 18, 25, 19, 26, 20])\n",
    "neighbor_delta_coordinate = utils.get_successor_neighbor_delta_coordinate(a)\n",
    "test_cell = cell_1.Cell_1(lx, ly, r_c, cell_index, neighbor_delta_coordinate, a)\n",
    "neighbor_index = test_cell.neighbor_cell_index"
   ]
  },
  {
   "cell_type": "code",
   "execution_count": 4,
   "metadata": {},
   "outputs": [],
   "source": [
    "# test create list cells\n",
    "\n",
    "r_c = 1 / 3\n",
    "a = 2\n",
    "domain=1.0\n",
    "neighbor_delta_coordinate = utils.get_successor_neighbor_delta_coordinate(a)\n",
    "\n",
    "list_cells = cell_1.get_list_cell(r_c, neighbor_delta_coordinate, domain, a)\n",
    "assert len(list_cells) == 36\n",
    "# for cell in list_cells:\n",
    "#     print(cell.cell_center)\n",
    "#     print(cell.cell_index)"
   ]
  },
  {
   "cell_type": "code",
   "execution_count": null,
   "metadata": {},
   "outputs": [],
   "source": []
  }
 ],
 "metadata": {
  "kernelspec": {
   "display_name": "Python 3",
   "language": "python",
   "name": "python3"
  },
  "language_info": {
   "codemirror_mode": {
    "name": "ipython",
    "version": 3
   },
   "file_extension": ".py",
   "mimetype": "text/x-python",
   "name": "python",
   "nbconvert_exporter": "python",
   "pygments_lexer": "ipython3",
   "version": "3.6.9"
  }
 },
 "nbformat": 4,
 "nbformat_minor": 2
}
