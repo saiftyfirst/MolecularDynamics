{
 "cells": [
  {
   "cell_type": "markdown",
   "metadata": {},
   "source": [
    "# 2D Multigrid for Dary Flow <div style=\"text-align: right\"> **[Total : 34 points]** </div>\n",
    "\n",
    "In the exercises, we have explored some steps towards multigrid, mostly for the Poisson equation and simple discretizations.\n",
    "Furthermore, we have only discussed one-dimensional problems.\n",
    "The problem is, of course, that both one-dimensional problems and the Poisson equation are relatively tame from a numerical perspective. You don't see the advantages of multigrid nn these scenarios,\n",
    "\n",
    "In this worksheet, we are going to look at the Darcy flow equation, discretized with a simple finite elements scheme on a hierarchical quad-tree based grid.\n",
    "All concepts are exactly the same as you've seen in the course, but applied in a more difficult setting."
   ]
  },
  {
   "cell_type": "code",
   "execution_count": 1,
   "metadata": {},
   "outputs": [],
   "source": [
    "%matplotlib inline\n",
    "import numpy as np\n",
    "\n",
    "\n",
    "import scipy.special as special\n",
    "import scipy.sparse as sp\n",
    "import scipy.sparse.linalg as splinalg\n",
    "\n",
    "import matplotlib.pyplot as plt\n",
    "import matplotlib as mpl\n",
    "import matplotlib.cm as cm\n",
    "from matplotlib import patches\n",
    "\n",
    "import sys\n",
    "sys.path.append(\"../src/\")\n",
    "\n",
    "import quadtree\n",
    "import plotter\n",
    "import fem"
   ]
  },
  {
   "cell_type": "markdown",
   "metadata": {},
   "source": [
    "## The PDE: Darcy Flow\n",
    "We are solving the steady state Darcy flow equation.\n",
    "This equation states the law of fluid flow through a porous medium, e.g. through sand.\n",
    "\n",
    "We have the steady-state fluid pressure $u$ and the spatially varying permeability $K(x,y)$.\n",
    "The PDE is basically a variable-coefficient version of the Poission equation and looks like:\n",
    "$$- \\nabla \\cdot \\left(K(x,y) \\nabla u \\right) = f,\n",
    "\\qquad \\forall \\mathbf{x} \\in \\Omega\n",
    "$$\n",
    "with boundary conditions\n",
    "\\begin{align}\n",
    "u(x,y) &= 0 \\qquad \\forall x \\in \\Gamma_D \\\\\n",
    "-K(x) \\nabla u \\cdot n &= 0 \\qquad \\forall x \\in \\Gamma - \\Gamma_D\n",
    "\\end{align}\n",
    "where $\\Gamma$ is the boundary and $\\Gamma_D$ is the Dirichlet part of the boundary.\n",
    "\n",
    "The Dirichlet boundary is on the top of the domain, all other boundary conditions are set to Neumann.\n",
    "\n",
    "After multiplying by a testfunction $\\phi(x,y)$ and integrating over the domain, we get the weak form:\n",
    "$$\\int_\\Omega \\nabla \\phi(x,y) \\cdot  (K(x,y) \\nabla u(x,y) \\mathrm{d}\\Omega = \\int_\\Omega \\phi(x,y) f(x,y) \\mathrm{d}\\Omega$$\n",
    "The boundary terms are zero due to the choice of boundary conditions.\n",
    "In our case we use a constant right-hand side of $f(x,y) = 1$.\n",
    "\n",
    "\n",
    "# The grid\n",
    "We define a quadtree-based grid, as this allows us to perform hierarchical algorithms with ease.\n",
    "Briefly, we decompose the domain into squares.\n",
    "\n",
    "# Discretization\n",
    "For the discretization we use a simple linear continuous finite elements approach.\n",
    "\n",
    "We choose a nodal linear Lagrange basis, with points $x_1 = -1, x_2 = 1$.\n",
    "This was discussed in the lecture as a piecewise-linear hat basis.\n",
    "The 1D-basis functions are then\n",
    "\\begin{align}\n",
    "l_1(x) &= -\\frac{x-1}{2} \\\\\n",
    "l_2(x) &= +\\frac{x+1}{2} \\\\\n",
    "\\end{align}\n",
    "We combine them by \n",
    "$$L(x) = a_1 l_1(x) + a_2 l_2(x)$$\n",
    "where $a_1, a_2$ are coefficients.\n",
    "In 2D, we have the points $(-1,-1), (-1, 1), (1, -1), (1,1)$ and the solution is expressed as\n",
    "$$u(x,y) \\approx a_1 l_1(x) l_2(y) + a_2 l_1(x) l_2(y) + a_3 l_1(x) l_2(y) + a_4 l_1(x) l_2(y) $$\n",
    "\n",
    "Note that each vertex has a coefficient (the value of $u(x,y)$ at that point) and a corresponding basis function.\n",
    "We use this basis to represent both the test functions $\\phi(x,y)$ and the discrete solution $u(x,y)$.\n",
    "\n",
    "Furthermore, be careful that all basis functions are defined on the reference cell $[-1,1]^2$ but all grid coordinates are defined in terms of global coordinates.\n",
    "\n",
    "Finally, we end up with a stiffness matrix $A_{ij}$ and a right-hand side $f_{i}$, where $i$ and $j$ are indices of vertices.\n",
    "It is important to note here that we remove rows and columns where either $i$ or $j$ corresponds to a vertex where the Dirichlet boundary condition is enfored.\n",
    "We do this to ensure that the remaining system is symmetric.\n",
    "\n",
    "This is all you need to know about the discretization to finish this notebook.\n",
    "If you are interested, you can find details in the file *fem.py*. This might also supply you with hints about details regarding the grid, basis, etc."
   ]
  },
  {
   "cell_type": "code",
   "execution_count": 2,
   "metadata": {
    "scrolled": true
   },
   "outputs": [
    {
     "name": "stdout",
     "output_type": "stream",
     "text": [
      "Level 0 has \t4 vertices\n",
      "Level 1 has \t5 vertices\n",
      "Level 2 has \t16 vertices\n",
      "Level 3 has \t56 vertices\n",
      "Level 4 has \t208 vertices\n"
     ]
    },
    {
     "data": {
      "text/plain": [
       "4"
      ]
     },
     "execution_count": 2,
     "metadata": {},
     "output_type": "execute_result"
    }
   ],
   "source": [
    "# Here we build up the geometry.\n",
    "# The code is included in the notebook because it makes it easier to see\n",
    "# how the vertices get numbered.\n",
    "class Geometry:\n",
    "    def __init__(self, level):\n",
    "        center = np.array([0.5, 0.5])\n",
    "        size = 1.0\n",
    "        self.grid = quadtree.Quadtree(center=center, size=size)\n",
    "        self.grid.split_to_level(level)\n",
    "       \n",
    "        self.vertices_coords_to_idx, \\\n",
    "        self.number_of_vertices_per_level, \\\n",
    "        self.boundary_vertices = self.grid.get_vertices()\n",
    "        self.vertices_idx_to_coords = {v: k for k, v in self.vertices_coords_to_idx.items()}\n",
    "        self.grid.set_all_cell_vertices(self.vertices_coords_to_idx)\n",
    "        self.grid.set_all_cell_indices()\n",
    "        \n",
    "        self.dirichlet_vertices = set()\n",
    "        for v in self.boundary_vertices:\n",
    "            eps = 1e-8\n",
    "            if self.vertices_idx_to_coords[v][1] >= (1 - eps):\n",
    "                self.dirichlet_vertices.add(v)\n",
    "        \n",
    "        dirichlet_vertices_array = np.array([*self.dirichlet_vertices])\n",
    "        # We do not store the data for Dirichlet values\n",
    "   \n",
    "        self.data_size_per_level = []\n",
    "        for level in range(self.grid.get_max_level()+1):\n",
    "            n_vert = self.number_of_vertices_per_level[level]\n",
    "            n_dirichlet_vert = len(\n",
    "                dirichlet_vertices_array[\n",
    "                    dirichlet_vertices_array < n_vert])\n",
    "            self.data_size_per_level.append(n_vert - n_dirichlet_vert)\n",
    "            \n",
    "        \n",
    "        self.vertex_idx_to_data_idx = np.zeros(self.number_of_vertices_per_level[-1], dtype=np.int32)\n",
    "        self.data_idx_to_vertex_idx = np.zeros(self.data_size_per_level[-1], dtype=np.int32)\n",
    "        cur_data_idx = 0\n",
    "        for i in range(self.number_of_vertices_per_level[-1]):\n",
    "            if i in self.dirichlet_vertices:\n",
    "                self.vertex_idx_to_data_idx[i] = -1\n",
    "            else:\n",
    "                self.vertex_idx_to_data_idx[i] = cur_data_idx\n",
    "                self.data_idx_to_vertex_idx[cur_data_idx] = i\n",
    "                cur_data_idx += 1       \n",
    "        \n",
    "\n",
    "geometry = Geometry(level=4)\n",
    "geometry.number_of_vertices_per_level[0]"
   ]
  },
  {
   "cell_type": "markdown",
   "metadata": {},
   "source": [
    "The figure below shows the grid for level 3.\n",
    "The red crosses show the vertices (at which the solution is defined), the black circle shows the cell center which is connected by the line. This line shows the order of cells (they are in Z-order), starting from the top-left."
   ]
  },
  {
   "cell_type": "code",
   "execution_count": 3,
   "metadata": {},
   "outputs": [
    {
     "data": {
      "image/png": "[encoded data removed]",
      "text/plain": [
       "<Figure size 576x576 with 1 Axes>"
      ]
     },
     "metadata": {
      "needs_background": "light"
     },
     "output_type": "display_data"
    }
   ],
   "source": [
    "import matplotlib.pyplot as plt\n",
    "fig, ax = plt.subplots(figsize=(8,8))\n",
    "ax.set_xlim(geometry.grid.offset[0], geometry.grid.size)\n",
    "ax.set_ylim(geometry.grid.offset[1], geometry.grid.size) \n",
    "plotter.plot_grid(fig,\n",
    "                  ax,\n",
    "                  geometry.grid,\n",
    "                  level=3,\n",
    "                  c='black', \n",
    "                  vertices=geometry.vertices_idx_to_coords,\n",
    "                  plot_curve=True,\n",
    "                  plot_center=True,\n",
    "                  plot_vertices=True)"
   ]
  },
  {
   "cell_type": "markdown",
   "metadata": {},
   "source": [
    "## Solving the system for a single level\n",
    "Below we show how to setup a discretization, geometry and stiffness matrix and rhs.\n",
    "We also show how to compute a solution with a direct solver."
   ]
  },
  {
   "cell_type": "code",
   "execution_count": 4,
   "metadata": {},
   "outputs": [
    {
     "name": "stdout",
     "output_type": "stream",
     "text": [
      "Level 0 has \t4 vertices\n",
      "Level 1 has \t5 vertices\n",
      "Level 2 has \t16 vertices\n",
      "Level 3 has \t56 vertices\n",
      "Level 4 has \t208 vertices\n"
     ]
    },
    {
     "data": {
      "text/plain": [
       "8.332014642235895e-15"
      ]
     },
     "execution_count": 4,
     "metadata": {},
     "output_type": "execute_result"
    }
   ],
   "source": [
    "# Use a simple material\n",
    "def eval_k(x,y):\n",
    "    return x + y\n",
    "\n",
    "level = 4\n",
    "geometry = Geometry(level=4)\n",
    "discretization = fem.Discretization(geometry,level=level,eval_k=eval_k)\n",
    "stiffness = discretization.setup_stiffness()\n",
    "rhs = discretization.setup_rhs()\n",
    "sol = splinalg.linsolve.spsolve(stiffness, rhs)\n",
    "\n",
    "# System is solved correctly to double precision:\n",
    "np.linalg.norm(stiffness @ sol - rhs)"
   ]
  },
  {
   "cell_type": "markdown",
   "metadata": {},
   "source": [
    "## Plotting the solution\n",
    "You can visualize the solution with *plot_solution* as below.\n",
    "It also kept in the notebook as a further example of a grid traversal, for the evaluation of the basis functions and for the handling of Dirichlet boundary conditions.\n",
    "\n",
    "The left plot shows the solution, the right one shows the material parameter.\n",
    "Dirichlet vertices are marked with black x."
   ]
  },
  {
   "cell_type": "code",
   "execution_count": 5,
   "metadata": {
    "scrolled": false
   },
   "outputs": [
    {
     "data": {
      "image/png": "[encoded data removed]",
      "text/plain": [
       "<Figure size 1296x576 with 4 Axes>"
      ]
     },
     "metadata": {
      "needs_background": "light"
     },
     "output_type": "display_data"
    }
   ],
   "source": [
    "def plot_solution(geometry, discretization, sol):\n",
    "    # First find minimum and maximum material parameter\n",
    "    min_k, max_k = float('inf'), float('-inf')\n",
    "    for cell in geometry.grid.dfs(only_level=level):\n",
    "        k = discretization.eval_k(cell.center[0], cell.center[1])\n",
    "        min_k = min(k, min_k)\n",
    "        max_k = max(k, max_k)\n",
    "\n",
    "    # Set up color scales for the solution and the material k.\n",
    "    norm_solution = mpl.colors.Normalize(vmin=sol.min(), vmax=sol.max())\n",
    "    norm_k = mpl.colors.Normalize(vmin=min_k, vmax=max_k)\n",
    "    cmap = cm.viridis\n",
    "    color_mapper_solution = cm.ScalarMappable(norm=norm_solution, cmap=cmap)\n",
    "    color_mapper_k = cm.ScalarMappable(norm=norm_k, cmap=cmap)\n",
    "\n",
    "    fig, axs = plt.subplots(1,2, figsize=(18,8))\n",
    "    \n",
    "    # Lists to store Dirichlet vertices.\n",
    "    dirichlet_xs = []\n",
    "    dirichlet_ys = []\n",
    "\n",
    "    for cell in geometry.grid.dfs(only_level=level):\n",
    "        value = 0.0\n",
    "        # Evaluate all basis functions at (0.5, 0.5)\n",
    "        for i, vertex in enumerate(cell.vertices):\n",
    "            # Ignore dirichlet boundary conditions.\n",
    "            # Their value is not stored and is always zero.\n",
    "            if vertex not in geometry.dirichlet_vertices:\n",
    "                # Here we get the index of the data correspond to the vertex.\n",
    "                data_idx = geometry.vertex_idx_to_data_idx[vertex]\n",
    "                value += sol[data_idx] * fem.lagrange_2d(discretization.nodes_x, i, (0.5,0.5))\n",
    "\n",
    "        # Plot the rectangles that build up the grid.\n",
    "        rect = patches.Rectangle(\n",
    "            cell.offset,\n",
    "            cell.size,\n",
    "            cell.size,\n",
    "            fill=True,\n",
    "            color=color_mapper_solution.to_rgba(value))\n",
    "        axs[0].add_patch(rect)\n",
    "\n",
    "        # Plot material\n",
    "        value = discretization.eval_k(cell.center[0], cell.center[1])\n",
    "        rect = patches.Rectangle(\n",
    "            cell.offset,\n",
    "            cell.size,\n",
    "            cell.size,\n",
    "            fill=True,\n",
    "            color=color_mapper_k.to_rgba(value))\n",
    "        axs[1].add_patch(rect)    \n",
    "\n",
    "        # Find dirichlet vertices\n",
    "        for v in cell.vertices:\n",
    "            if v in geometry.dirichlet_vertices:\n",
    "                dirichlet_xs.append(geometry.vertices_idx_to_coords[v][0])\n",
    "                dirichlet_ys.append(geometry.vertices_idx_to_coords[v][1])\n",
    "                \n",
    "    axs[0].set_title(\"Solution\")\n",
    "    axs[0].axis('square')\n",
    "\n",
    "    axs[1].set_title(\"K\")\n",
    "    axs[1].axis('square')\n",
    "\n",
    "    # Mark Dirichlet vertices with black x.\n",
    "    for ax in axs:\n",
    "        ax.scatter(dirichlet_xs, dirichlet_ys, c='black', zorder=10, marker='x', s=50)\n",
    "        \n",
    "    fig.colorbar(color_mapper_solution, ax=axs[0])    \n",
    "    fig.colorbar(color_mapper_k, ax=axs[1])\n",
    "\n",
    "plot_solution(geometry=geometry, discretization=discretization, sol=sol)"
   ]
  },
  {
   "cell_type": "markdown",
   "metadata": {},
   "source": [
    "# Multigrid\n",
    "## The interpolation and prolongation operators\n",
    "As we've discussed, we are using a finite elements discretization for our equation.\n",
    "An advantage of this is that we have a continuous solution over the entire domain.\n",
    "This is quite helpful for definiting the interpolation operator.\n",
    "\n",
    "Let's look at a single cell and the corresponding fine cells:"
   ]
  },
  {
   "cell_type": "code",
   "execution_count": 6,
   "metadata": {},
   "outputs": [
    {
     "data": {
      "text/plain": [
       "Text(0.5, 1.0, 'Corresponding Fine Cell')"
      ]
     },
     "execution_count": 6,
     "metadata": {},
     "output_type": "execute_result"
    },
    {
     "data": {
      "image/png": "[encoded data removed]",
      "text/plain": [
       "<Figure size 720x720 with 2 Axes>"
      ]
     },
     "metadata": {
      "needs_background": "light"
     },
     "output_type": "display_data"
    }
   ],
   "source": [
    "# Take the first and only cell of level 0.\n",
    "cells = list(geometry.grid.dfs(only_level=0))\n",
    "c = cells[0]\n",
    "\n",
    "fig, axs = plt.subplots(1, 2, sharey=True, figsize=(10,10))\n",
    "plotter.plot_grid(fig, axs[0], grid=c, level=1, vertices=geometry.vertices_idx_to_coords, plot_vertices=True)\n",
    "plotter.plot_grid(fig, axs[1], grid=c, level=2, vertices=geometry.vertices_idx_to_coords, plot_vertices=True)\n",
    "axs[0].axis('square')\n",
    "axs[0].set_title(\"Coarse Cell\")\n",
    "axs[1].axis('square')\n",
    "axs[1].set_title(\"Corresponding Fine Cell\")"
   ]
  },
  {
   "cell_type": "markdown",
   "metadata": {},
   "source": [
    "The left cell in the figure is the coarse cell.\n",
    "The red Xs mark the vertices of each cell.\n",
    "\n",
    "On the right, you can see the corresponding four cells of the grid with one level more.\n",
    "Note that all vertices in the coarse grid also exist in the fine grid.\n",
    "For these vertices, it is trivial to define the fine grid solution.\n",
    "The other vertices can be found by evaluating the basis functions of the coarse cell at their position.\n",
    "In our case, this corresponds to (bi-)linear interpolation.\n",
    "\n",
    "Below you can find some examples of iterating over the vertices of a cell.\n",
    "You can also see how to find the global and reference coordinates for each.\n",
    "Note that each vertex has a global index and a data index.\n",
    "Because the unknowns for the Dirichlet vertices are not stored explicitely, both indices are not identical.\n",
    "Before accessing any matrix/vector that has anything to do with the discrete solution, you need to convert the vertex idx to the data idx.\n",
    "\n",
    "Note that both vertex and data indices are ordered s.t. all indices for a coarse grid also exist in all finer grids."
   ]
  },
  {
   "cell_type": "code",
   "execution_count": 7,
   "metadata": {},
   "outputs": [
    {
     "name": "stdout",
     "output_type": "stream",
     "text": [
      "Found cell with center [0.25 0.75] and size 0.5\n",
      "Its parent has center [0.5 0.5] and size 1.0\n",
      "child's  \t0th vertex has index 4, data index 2, global coordinates (0.0, 0.5) and reference coordinates [-1. -1.]\n",
      "child's  \t1th vertex has index 1, data index -1, global coordinates (0.0, 1.0) and reference coordinates [-1.  1.]\n",
      "child's  \t2th vertex has index 5, data index 3, global coordinates (0.5, 0.5) and reference coordinates [ 1. -1.]\n",
      "child's  \t3th vertex has index 6, data index -1, global coordinates (0.5, 1.0) and reference coordinates [1. 1.]\n",
      "\n",
      "parent's\t0th vertex has index 0, data index 0,  global coordinates (0.0, 0.0) and reference coordinates [-1. -1.]\n",
      "parent's\t1th vertex has index 1, data index -1,  global coordinates (0.0, 1.0) and reference coordinates [-1.  1.]\n",
      "parent's\t2th vertex has index 2, data index 1,  global coordinates (1.0, 0.0) and reference coordinates [ 1. -1.]\n",
      "parent's\t3th vertex has index 3, data index -1,  global coordinates (1.0, 1.0) and reference coordinates [1. 1.]\n",
      "\n",
      "Evaluated first basis function of the parent at position of first reference cell: 0.5\n",
      "Evaluated second basis function of the parent at position of second reference cell: 1.0\n",
      "Vertices of level 0 are\t\t{0, 1, 2, 3},\n",
      "vertices of level 1 are\t\t{0, 1, 2, 3, 4, 5, 6, 7, 8}\n",
      "Data indices of level 0 are\t{0, 1},\n",
      "data indices of level 1 are\t{0, 1, 2, 3, 4, 5}\n"
     ]
    }
   ],
   "source": [
    "# Example of finding vertices:\n",
    "\n",
    "# Take a random cell\n",
    "cell = next(geometry.grid.dfs(only_level=1))\n",
    "print(\"Found cell with center {center} and size {size}\".format(\n",
    "    center=cell.center, \n",
    "    size=cell.size))\n",
    "\n",
    "# Next we find the parent of the cell\n",
    "parent = cell.parent\n",
    "print(\"Its parent has center {center} and size {size}\".format(\n",
    "    center=parent.center, \n",
    "    size=parent.size))\n",
    "\n",
    "# Our cell has a few vertices:\n",
    "for i, vertex in enumerate(cell.vertices):\n",
    "    global_coords = geometry.vertices_idx_to_coords[vertex]\n",
    "    reference_coords = fem.map_to_reference_coordinates(cell, global_coords)\n",
    "    print(\n",
    "        \"child's  \\t{i}th vertex has index {idx}, data index {data_idx}, global coordinates {global_coords} and reference coordinates {reference_coords}\".format(\n",
    "    i=i,\n",
    "    idx=vertex,\n",
    "    data_idx=geometry.vertex_idx_to_data_idx[vertex],\n",
    "    global_coords=global_coords,\n",
    "    reference_coords=reference_coords))\n",
    "    \n",
    "print()\n",
    "# The parent also has vertices:\n",
    "for i, vertex in enumerate(parent.vertices):\n",
    "    global_coords = geometry.vertices_idx_to_coords[vertex]\n",
    "    reference_coords = fem.map_to_reference_coordinates(parent, global_coords)\n",
    "    print(\n",
    "        \"parent's\\t{i}th vertex has index {idx}, data index {data_idx},  global coordinates {global_coords} and reference coordinates {reference_coords}\".format(\n",
    "    i=i,\n",
    "    idx=vertex,\n",
    "    data_idx=geometry.vertex_idx_to_data_idx[vertex],\n",
    "    global_coords=global_coords,\n",
    "    reference_coords=reference_coords))\n",
    "# Note that the vertices of both cells have the same reference coordinates.     \n",
    "\n",
    "        \n",
    "# Now we want to evaluate the \n",
    "# We can take the first vertex of the PARENT\n",
    "first_basis_function_parent = parent.vertices[0]\n",
    "first_vertex_cell = cell.vertices[0]\n",
    "coordinates_vertex_cell = np.array(geometry.vertices_idx_to_coords[first_vertex_cell])\n",
    "# Important: We map to the reference coordinates of the PARENT!\n",
    "reference_coordinates_vertex_cell = fem.map_to_reference_coordinates(parent, coordinates_vertex_cell)\n",
    "\n",
    "# and evaluate the basis function of the parent\n",
    "# Note here that the basis is \n",
    "print(\"\\nEvaluated first basis function of the parent at position of first reference cell: {}\".format(\n",
    "    fem.lagrange_2d(discretization.nodes_x, first_basis_function_parent, reference_coordinates_vertex_cell)))\n",
    "\n",
    "# We can also do this with the second basis function and vertex.\n",
    "# Note that these two have the same coordinates.\n",
    "# We thus expect the basis function to evaluate to one.\n",
    "basis_parent = parent.vertices[1]\n",
    "coords_vertex_cell = fem.map_to_reference_coordinates(parent, \n",
    "                                                      np.array(geometry.vertices_idx_to_coords[cell.vertices[1]]))\n",
    "print(\"Evaluated second basis function of the parent at position of second reference cell: {}\".format(\n",
    "    fem.lagrange_2d(discretization.nodes_x, basis_parent, coords_vertex_cell)))\n",
    "\n",
    "# Show that vertices of level l are subset of vertices of level l+1\n",
    "def collect_vertex_ids(geometry, level):\n",
    "    vertex_ids = set()\n",
    "    data_ids = set()\n",
    "    # You can iterate through the cells of a level with a depth-first search.\n",
    "    for cell in geometry.grid.dfs(only_level=level):\n",
    "        for vertex in cell.vertices:\n",
    "            vertex_ids.add(vertex)\n",
    "            if vertex not in geometry.dirichlet_vertices:\n",
    "                data_ids.add(geometry.vertex_idx_to_data_idx[vertex])\n",
    "            \n",
    "    return vertex_ids, data_ids\n",
    "\n",
    "v_0, d_0 = collect_vertex_ids(geometry, 0)\n",
    "v_1, d_1 = collect_vertex_ids(geometry, 1)\n",
    "print(\"Vertices of level 0 are\\t\\t{},\\nvertices of level 1 are\\t\\t{}\".format(v_0, v_1))\n",
    "print(\"Data indices of level 0 are\\t{},\\ndata indices of level 1 are\\t{}\".format(d_0, d_1))"
   ]
  },
  {
   "cell_type": "markdown",
   "metadata": {},
   "source": [
    "## Interpolation<div style=\"text-align: right\"> **[6 points]** </div>\n",
    "Your task is to create the interpolation matrix.\n",
    "Below are two function templates that you need to adapt.\n",
    "\n",
    "The first function evaluate_solution should evaluate all basis functions of a cell at a given global cordinate.\n",
    "It should return a dictionary that maps vertices of the cell to the evauated basis functions.\n",
    "Use the functions *fem.map_to_reference_coordinates(cell, coord)* to map the coordinates to the reference coordinates and the function *fem.lagrange_2d(discretization.nodes_x, index, reference_coords)* to evaluate the basis function with index *index*. Note that the vertices are sorted s.t. they are ordered identically to the basis functions when looping through cell.vertices.\n",
    "Furthermore be careful to check whether the vertex is a Dirichlet vertex - in this case, the coefficient has to be zero.\n",
    "The set of all vertex ids corresponding to the Dirichlet BC is in *geometry.dirichlet_vertices*.\n",
    "\n",
    "The second function make_interpolation maps from a level_coarse to the next level.\n",
    "The interpolation matrix has the entries $(i,j)$ where i are the data indices correspond tovertices of the coarse grid and $j$ are the coefficients of the hat basis.\n",
    "The algorithm for building up the interpolation matrix is quite simple:\n",
    "- Loop through all cells\n",
    "- Find their parent with cell.parent\n",
    "- Loop over all vertices (in cell.vertices)\n",
    "- Find their indices with geometry.vertices_idx_to_coords\\[vertex_id\\]\n",
    "- Use evaluate_solution to find the coefficients of the parent's basis functions and set the entry in the matrix.\n",
    "You basically have to loop through all cells of a given level, and then use the function evaluate_solution to find the coefficients.\n",
    "You can also refer to worksheet 9, which defines the interpolation operator for the 1D-case - the 2D-algorithm is identical.\n",
    "Note that you should be careful to use *geometry.vertex_idx_to_data_idx* to convert from the vertex to the data index, where appropiate.\n",
    "You can find the number of data points per level in the array *geometry.data_size_per_level[level]*.\n",
    "\n",
    "Only return sparse matrices. Otherwise you will run out of memory for larger levels. \n",
    "\n",
    "Remark: The algorithm basically performs bi-linear interpolation and can also be implemented as a matrix-vector product. For this worksheet, use the algorithm defined above.\n",
    "\n",
    "**Task**: Compute the prolongation/interpolation matrix."
   ]
  },
  {
   "cell_type": "code",
   "execution_count": null,
   "metadata": {},
   "outputs": [],
   "source": []
  },
  {
   "cell_type": "code",
   "execution_count": 8,
   "metadata": {
    "scrolled": false
   },
   "outputs": [],
   "source": [
    "def evaluate_solution(geometry, discretization, cell, coord):\n",
    "    \"\"\"\n",
    "    Given a multilevel geometry, its discrezations and one cell (=one Finite Element) within it,\n",
    "    find the Ansatz function values at the location given by coord (referencing to the global\n",
    "    coordinate system spanning over the total domain of simulation). Assume the requested location is\n",
    "    within or on the boundary of the Finite Element.\n",
    "    \"\"\"\n",
    "    # Coordinate transform to the reference element spanning (-1,1)^2\n",
    "    # In case of our isogeometric elements this is a linear trafo by a matrix\n",
    "    # -> Move origin by translation\n",
    "    # -> Scale (possibly distorted) element to binary-unit-square\n",
    "    coord_ref = fem.map_to_reference_coordinates(cell, coord)\n",
    "    \n",
    "    # For our quadrilateral element there are 4 Ansatz (=building the shape set) functions defined (linear isoparametric\n",
    "    # Langrangian element). We save each function evaluated at the point a dictionary mapping\n",
    "    shape_functions_evaluated = {}\n",
    "    # Iterate over all vertices of the cell\n",
    "    for shape_function_index, vertex_index in enumerate(cell.vertices):\n",
    "        # Check if the current vertex is a Dirichlet vertex. If so its contribution is set to zero\n",
    "        if vertex_index in geometry.dirichlet_vertices:\n",
    "            # Dirichlet Vertex - set contribution to the point to zero\n",
    "            shape_functions_evaluated[vertex_index] = 0\n",
    "        else:\n",
    "            # Non-Dirichlet Vertex (either inter-domain or Neumann vertex)- use shape function\n",
    "            # associated with this vertex to get the contribution to the queried point\n",
    "            shape_functions_evaluated[vertex_index] = fem.lagrange_2d(\n",
    "                discretization.nodes_x,\n",
    "                shape_function_index,\n",
    "                coord_ref,\n",
    "            )\n",
    "        \n",
    "    return shape_functions_evaluated\n",
    "\n",
    "def make_interpolation(geometry, level_coarse):\n",
    "    level_fine = level_coarse + 1\n",
    "    discretization = fem.Discretization(geometry, level_fine)\n",
    "\n",
    "    # The number of vertices is pre-computed in the discretization object\n",
    "    # Since the Dirichlet vertices are not involved in the solution process\n",
    "    # because they are fixed, we only need the \"data-containing\" vertices\n",
    "    # which number per level is obviously lower\n",
    "    number_of_vertices_coarse = geometry.data_size_per_level[level_coarse]\n",
    "    number_of_vertices_fine = geometry.data_size_per_level[level_fine]\n",
    "    \n",
    "    interpolation = sp.lil_matrix((number_of_vertices_fine, number_of_vertices_coarse), dtype=np.float64)\n",
    "\n",
    "    # Loop over all cells in the fine grid\n",
    "    for cell in geometry.grid.dfs(only_level=level_fine):\n",
    "        # This is the parent cell of the current cell (one level upwards in the quadtree)\n",
    "        parent = cell.parent\n",
    "        \n",
    "        # We have to find the contribution of the parent cell's function values at the vertices of the current cell\n",
    "        for vertex_idx in cell.vertices:\n",
    "            # Is the current vertex a Dirichlet vertex? If so - ignore it\n",
    "            if vertex_idx in geometry.dirichlet_vertices:\n",
    "                continue\n",
    "            \n",
    "            # The physical location of the vertex in the simulation domain\n",
    "            vertex_coord = geometry.vertices_idx_to_coords[vertex_idx]\n",
    "            \n",
    "            # The id of the vertex in the data sense\n",
    "            data_idx = geometry.vertex_idx_to_data_idx[vertex_idx]\n",
    "            \n",
    "            shape_functions_evaluated = evaluate_solution(\n",
    "                geometry=geometry,\n",
    "                discretization=discretization,\n",
    "                cell=parent,\n",
    "                coord=vertex_coord,\n",
    "            )\n",
    "            for parent_vertex_idx, shape_function_contribution in shape_functions_evaluated.items():\n",
    "                # Is the current vertex a Dirichlet vertex? If so - ignore it\n",
    "                if parent_vertex_idx in geometry.dirichlet_vertices:\n",
    "                    continue\n",
    "                \n",
    "                # The id of the vertex in the data sense\n",
    "                parent_data_idx = geometry.vertex_idx_to_data_idx[parent_vertex_idx]\n",
    "                \n",
    "                # Add the contribution to the trafo matrix\n",
    "                # P_ij = v_j(x_i) (The j-th nodal function in the coarse grid evaluated at the\n",
    "                # i-th point of the fine grid)\n",
    "                interpolation[data_idx, parent_data_idx] += shape_function_contribution\n",
    "                \n",
    "            \n",
    "    \n",
    "    return interpolation.tocsc()\n",
    "\n",
    "level_coarse = 1\n",
    "\n",
    "interpolation = make_interpolation(geometry, level_coarse=level_coarse)\n",
    "#print(interpolation.todense())"
   ]
  },
  {
   "cell_type": "markdown",
   "metadata": {},
   "source": [
    "## Restriction<div style=\"text-align: right\"> **[2 points]** </div>\n",
    "The restriction matrix is the transpose of the interpolation matrix. Implement this as the function make_restricion, again making sure that the matrix is sparse."
   ]
  },
  {
   "cell_type": "code",
   "execution_count": 9,
   "metadata": {},
   "outputs": [
    {
     "data": {
      "text/plain": [
       "matrix([[1., 0., 0., 0., 0., 0., 0., 0., 0., 0., 0., 0., 0., 1., 1., 0.,\n",
       "         1., 0., 0., 0.],\n",
       "        [0., 1., 0., 0., 0., 0., 0., 0., 0., 0., 0., 0., 0., 0., 0., 0.,\n",
       "         0., 1., 1., 1.],\n",
       "        [0., 0., 2., 0., 0., 0., 1., 1., 0., 2., 0., 0., 0., 1., 1., 0.,\n",
       "         0., 0., 0., 0.],\n",
       "        [0., 0., 0., 4., 0., 0., 0., 1., 2., 2., 1., 0., 2., 0., 1., 2.,\n",
       "         0., 1., 0., 0.],\n",
       "        [0., 0., 0., 0., 2., 0., 0., 0., 0., 0., 1., 1., 2., 0., 0., 0.,\n",
       "         0., 1., 1., 0.],\n",
       "        [0., 0., 0., 0., 0., 2., 0., 0., 0., 0., 0., 0., 0., 0., 1., 2.,\n",
       "         1., 1., 0., 1.]])"
      ]
     },
     "execution_count": 9,
     "metadata": {},
     "output_type": "execute_result"
    }
   ],
   "source": [
    "def make_restriction(geometry, level_coarse):\n",
    "    # Just call the other function and use its transpose\n",
    "    return make_interpolation(geometry, level_coarse).transpose()\n",
    "\n",
    "make_restriction(geometry, level_coarse=level_coarse).todense()"
   ]
  },
  {
   "cell_type": "markdown",
   "metadata": {},
   "source": [
    "# Coarse Grid Operator<div style=\"text-align: right\"> **[6 points]** </div>\n",
    "Next, we use the Galerkin construction of the coarse grid operators.\n",
    "We define the coarse grid operators as\n",
    "$$A^{2h} = R^{h \\to 2h} A^{h} P^{2h \\to ih}$$\n",
    "where $A^{2h}$ is the operator on a grid that's one level smaller than the operator $A^{h}$.\n",
    "$P^{h \\to 2h}$ is the prologation/interpolaton operator that maps a vector from a grid to a grid of the next level and $R^{h \\to 2h}$ is the restriction operator that maps to the next coarser grid.\n",
    "\n",
    "The data structure is already defined below. You need to fill in the blanks and initialize the variables\n",
    "\n",
    "```\n",
    "coarse_to_fine\n",
    "fine_to_coarse\n",
    "stiffness\n",
    "```\n",
    "\n",
    "You can initialize the stiffness matrices by going from the finest grid backwards and computing the coarser operator from the previously computed matrix.\n",
    "\n",
    "The output for level_min=1, level_max=3 should look like this (you can ignore the specific sparse matrix format, as long as the matrices are sparse):\n",
    "\n",
    "```\n",
    "storage.fine_to_coarse\n",
    "([<2x6 sparse matrix of type '<class 'numpy.float64'>'\n",
    "  \twith 8 stored elements in Compressed Sparse Row format>,\n",
    "  <6x20 sparse matrix of type '<class 'numpy.float64'>'\n",
    "  \twith 35 stored elements in Compressed Sparse Row format>,\n",
    "  <20x72 sparse matrix of type '<class 'numpy.float64'>'\n",
    "  \twith 143 stored elements in Compressed Sparse Row format>]\n",
    "```\n",
    "\n",
    "```\n",
    "storage.coarse_to_fine\n",
    "[<6x2 sparse matrix of type '<class 'numpy.float64'>'\n",
    "  \twith 8 stored elements in Compressed Sparse Column format>,\n",
    "  <20x6 sparse matrix of type '<class 'numpy.float64'>'\n",
    "  \twith 35 stored elements in Compressed Sparse Column format>,\n",
    "  <72x20 sparse matrix of type '<class 'numpy.float64'>'\n",
    "  \twith 143 stored elements in Compressed Sparse Column format>]\n",
    "```\n",
    "   \n",
    "```\n",
    "storage.stiffness\n",
    "[<6x6 sparse matrix of type '<class 'numpy.float64'>'\n",
    "  \twith 28 stored elements in Compressed Sparse Row format>,\n",
    "  <20x20 sparse matrix of type '<class 'numpy.float64'>'\n",
    "  \twith 130 stored elements in Compressed Sparse Row format>,\n",
    "  <72x72 sparse matrix of type '<class 'numpy.float64'>'\n",
    "  \twith 550 stored elements in Compressed Sparse Column format>]\n",
    "```\n",
    "\n",
    "The coarse grid operators that you get from:\n",
    "- direct discretization on the coarse grid\n",
    "- Galerkin construction\n",
    "\n",
    "should be identical up to a constant."
   ]
  },
  {
   "cell_type": "code",
   "execution_count": 15,
   "metadata": {},
   "outputs": [
    {
     "name": "stdout",
     "output_type": "stream",
     "text": [
      "Level 0 has \t4 vertices\n",
      "Level 1 has \t5 vertices\n",
      "Level 2 has \t16 vertices\n",
      "Level 3 has \t56 vertices\n"
     ]
    }
   ],
   "source": [
    "class MultigridStorage:\n",
    "    def __init__(self, discretization, level_min, level_max, stiffness):\n",
    "        self.level_min = level_min\n",
    "        self.level_max = level_max\n",
    "        \n",
    "        self.geometry = discretization.geometry\n",
    "        geometry = discretization.geometry\n",
    "        \n",
    "        number_of_levels = (level_max - level_min + 1)\n",
    "        # The stiffness matrix is already defined on the finest grid\n",
    "        # We won't save the stiffness matrix for the coarsest level\n",
    "        # Iterate over\n",
    "        self.coarse_to_fine = []\n",
    "        self.fine_to_coarse = []\n",
    "        self.stiffness = []\n",
    "        \n",
    "        current_stiffness = stiffness\n",
    "        # NOTE: I changed the size of the storage containers. I do now save the stiffness matrix\n",
    "        # for every level, which means I will have l elements in the list of prolongation and\n",
    "        # interpolation operators and l+1 elements in the list of stiffness matrices\n",
    "        self.stiffness.append(current_stiffness)\n",
    "        \n",
    "        for level in range(level_max, level_min-1, -1):\n",
    "            # From finest to coarsest\n",
    "            current_prolongation = make_interpolation(geometry, level-1)\n",
    "            current_restriction = make_restriction(geometry, level-1)\n",
    "            current_stiffness = current_restriction.dot(current_stiffness.dot(current_prolongation))\n",
    "            self.coarse_to_fine.append(current_prolongation)\n",
    "            self.fine_to_coarse.append(current_restriction)\n",
    "            self.stiffness.append(current_stiffness)\n",
    "        \n",
    "        \n",
    "        \n",
    "        # Reverse list ordering to comply with given example\n",
    "        self.coarse_to_fine.reverse()\n",
    "        self.fine_to_coarse.reverse()\n",
    "        self.stiffness.reverse()\n",
    "        \n",
    "\n",
    "level = 3\n",
    "geometry = Geometry(level=level)\n",
    "\n",
    "eval_k = lambda x, y: x + y + 0.001\n",
    "discretization = fem.Discretization(geometry, level=level, eval_k=eval_k)\n",
    "stiffness = discretization.setup_stiffness()\n",
    "rhs = discretization.setup_rhs()\n",
    "sol = splinalg.linsolve.spsolve(stiffness, rhs)\n",
    "\n",
    "storage = MultigridStorage(discretization, level_min=1, level_max=level, stiffness=stiffness)"
   ]
  },
  {
   "cell_type": "markdown",
   "metadata": {},
   "source": [
    "# Smoother<div style=\"text-align: right\"> **[2 points]** </div>\n",
    "We've seen how we can create a linear system $Ax = b$ with our grid and dicretization.\n",
    "How can we solve it?\n",
    "\n",
    "The next step towards multigrid is defining the smoother.\n",
    "Here, we want to use a simple Jacobi relaxation.\n",
    "We split the matrix $A$ into a diagonal and an off-diagonal part as\n",
    "$$A = D + O,$$\n",
    "we can then write one Jacobi update as\n",
    "$$x^{n+1} = D^{-1} (b - O x^{n}).$$\n",
    "\n",
    "**Task**:\n",
    "Implement this. Either use the row-wise method or use sparse linear algebra methods from scipy. Never build up a dense matrix! You are free to use the method scipy.sparse.diags (or sp.diags here) to extract the diagonal part of A."
   ]
  },
  {
   "cell_type": "code",
   "execution_count": 95,
   "metadata": {},
   "outputs": [],
   "source": [
    "def jacobi_relaxation(A, x, b, num_it):    \n",
    "    # Decompose the matrix A into a Diagonal part and a offdiagonal part\n",
    "    D = sp.diags(A.diagonal())\n",
    "    O = A - D\n",
    "    \n",
    "    # Scipy should choose the required solver for diagonal matrices (Just inversion\n",
    "    # of the diagonal elements and then element-wise multiplication)\n",
    "    x_new = np.copy(x)\n",
    "    \n",
    "    for iter in range(num_it):\n",
    "        x_new = splinalg.spsolve(D, (b - O.dot(x_new)))\n",
    "    \n",
    "    return x_new\n",
    "\n",
    "def compute_residual(A, x, b):\n",
    "    return np.linalg.norm(A @ x - b)"
   ]
  },
  {
   "cell_type": "markdown",
   "metadata": {},
   "source": [
    "# V-Cycle<div style=\"text-align: right\"> **[12 points]** </div>\n",
    "We use the following recursive algorithm do define one v-cycle (see A multigrid tutorial Chapter 3 or lecture for more details).\n",
    "The vcycle operator $V^h$ for a grid with spacing $h$, initial guess $v^h$ and right-hand-side $f^h$ is\n",
    "$$v^h = V^h(v^h,f^h)$$\n",
    "\n",
    "1. Relax $s_1$ times on $A^h u^h = f^h$\n",
    "2. If already coarsest grid, go to step 5 (no further iteration possible).\n",
    "3. Else:\n",
    "\n",
    "    (Setup rhs for residual equation)\n",
    "\n",
    "    $$f^{2h} = R^{2h \\to h} (f^h - A^h v^h)$$\n",
    "    \n",
    "    (Set initial guess for update to zero)\n",
    "    \n",
    "    $$v^{2h} = 0$$\n",
    "    \n",
    "    (Call vcycle recursively.)\n",
    "    \n",
    "    $$v^{2h} = V^{2h} (v^{2h}, f^{2h})$$\n",
    "\n",
    "4. Correct $$v^h = v^h +P^{2h \\to h} v^{2h} $$\n",
    "5. Relax $s_2$ times on $A^h u^h = f^h$ with initial guess $v^h$.\n",
    "  \n",
    "We have defined all necessary matrices and the smoother in the steps before.\n",
    "The only part left is combining all loose parts into one coherent algorithm.\n",
    "\n",
    "We choose $s_1=5$, $s_2=5$.\n",
    "\n",
    "**Task**: Implement this. You can use the MultigridStorage that you've defined earlier to access the grid transfer matrices and the coarse grid operators. \n",
    "Show the solution that you get. Use the code below to compare the v-cycle and Jacobi relaxation."
   ]
  },
  {
   "cell_type": "code",
   "execution_count": 98,
   "metadata": {},
   "outputs": [],
   "source": [
    "def v_cycle(storage : MultigridStorage, level : int, rhs : np.array, unknowns : np.array):\n",
    "    # The number of smoothing iterations before restriction and after prolongation\n",
    "    s_1 = 5\n",
    "    s_2 = 5\n",
    "    \n",
    "    \n",
    "    # Pre-Restriction Smoothing\n",
    "    unknowns = jacobi_relaxation(\n",
    "        storage.stiffness[level],\n",
    "        unknowns,\n",
    "        rhs,\n",
    "        num_it=s_1\n",
    "    )\n",
    "    \n",
    "    # If we haven't reached the coursest level yet\n",
    "    if level > 0:\n",
    "        # The rhs of the upcoming lower level cycle is the restricted residuum\n",
    "        coarse_rhs = storage.fine_to_coarse[level-1].dot(\n",
    "            rhs - storage.stiffness[level].dot(unknowns)\n",
    "        )\n",
    "        coarse_unknowns = np.zeros_like(coarse_rhs)\n",
    "        # Recursive call to the cycle routine\n",
    "        coarse_correction = v_cycle(storage, level - 1, coarse_rhs, coarse_unknowns)\n",
    "        \n",
    "        # Correct the unknowns\n",
    "        unknowns += storage.coarse_to_fine[level-1].dot(coarse_correction)\n",
    "    \n",
    "    # Post-Prolongation Smoothing\n",
    "    unknowns = jacobi_relaxation(\n",
    "        storage.stiffness[level],\n",
    "        unknowns,\n",
    "        rhs,\n",
    "        num_it=s_2\n",
    "    )\n",
    "    \n",
    "    return unknowns\n",
    "        \n",
    "        \n"
   ]
  },
  {
   "cell_type": "code",
   "execution_count": 107,
   "metadata": {},
   "outputs": [
    {
     "name": "stdout",
     "output_type": "stream",
     "text": [
      "Residual after 1 \titerations = 0.23840308338970964,\tError = 188.12670637101732\n",
      "Residual after 2 \titerations = 0.13360170540326316,\tError = 101.53458741380254\n",
      "Residual after 3 \titerations = 0.07371549398189951,\tError = 55.3793893135506\n",
      "Residual after 4 \titerations = 0.040440070887469814,\tError = 30.286115237096052\n",
      "Residual after 5 \titerations = 0.02214960175123137,\tError = 16.574496545285832\n",
      "Residual after 6 \titerations = 0.01212646745519204,\tError = 9.072261107086762\n",
      "Residual after 7 \titerations = 0.0066382581161068205,\tError = 4.966050496209061\n",
      "Residual after 8 \titerations = 0.003633802540898651,\tError = 2.718391614052374\n",
      "Residual after 9 \titerations = 0.0019891394366836025,\tError = 1.4880389158472362\n",
      "Residual after 10 \titerations = 0.00108885055745828,\tError = 0.814548436307875\n"
     ]
    }
   ],
   "source": [
    "# Zero initial guess\n",
    "unknowns = np.zeros(geometry.data_size_per_level[storage.level_max])\n",
    "for cycle in range(10):\n",
    "    unknowns = v_cycle(storage, level=storage.level_max, rhs=rhs, unknowns=unknowns)\n",
    "    print(\"Residual after {} \\titerations = {},\\tError = {}\".\n",
    "          format(\n",
    "          (cycle+1),\n",
    "          compute_residual(stiffness, unknowns, rhs),\n",
    "          np.linalg.norm(sol - unknowns)\n",
    "          ))"
   ]
  },
  {
   "cell_type": "code",
   "execution_count": 108,
   "metadata": {},
   "outputs": [
    {
     "data": {
      "image/png": "[encoded data removed]",
      "text/plain": [
       "<Figure size 1296x576 with 4 Axes>"
      ]
     },
     "metadata": {
      "needs_background": "light"
     },
     "output_type": "display_data"
    }
   ],
   "source": [
    "plot_solution(geometry, discretization, unknowns)"
   ]
  },
  {
   "cell_type": "code",
   "execution_count": 109,
   "metadata": {},
   "outputs": [
    {
     "name": "stdout",
     "output_type": "stream",
     "text": [
      "Residual after 100 \titerations = 0.05290435257980759,\tError = 40.697963003812355\n",
      "Residual after 200 \titerations = 0.00619077587042415,\tError = 4.76187996217888\n",
      "Residual after 300 \titerations = 0.0007243800651497401,\tError = 0.5571854982853365\n",
      "Residual after 400 \titerations = 8.475939864515612e-05,\tError = 0.06519603456192558\n",
      "Residual after 500 \titerations = 9.917660636267388e-06,\tError = 0.00762855985301043\n",
      "Residual after 600 \titerations = 1.160461188509218e-06,\tError = 0.0008926144947639855\n",
      "Residual after 700 \titerations = 1.357850627113478e-07,\tError = 0.00010444443696333728\n",
      "Residual after 800 \titerations = 1.5888151121935404e-08,\tError = 1.2220998801399826e-05\n",
      "Residual after 900 \titerations = 1.8590657397287856e-09,\tError = 1.4299741467677417e-06\n",
      "Residual after 1000 \titerations = 2.1752837546696067e-10,\tError = 1.6732102165197038e-07\n"
     ]
    }
   ],
   "source": [
    "unknowns = np.zeros(geometry.data_size_per_level[storage.level_max])\n",
    "for it in range(10):\n",
    "    unknowns = jacobi_relaxation(A=stiffness, x=unknowns, b=rhs, num_it=100)\n",
    "    print(\"Residual after {} \\titerations = {},\\tError = {}\".\n",
    "          format(\n",
    "          (it+1) * 100,\n",
    "          compute_residual(stiffness, unknowns, rhs),\n",
    "          np.linalg.norm(sol - unknowns)\n",
    "          ))\n",
    "    "
   ]
  },
  {
   "cell_type": "code",
   "execution_count": 110,
   "metadata": {},
   "outputs": [
    {
     "data": {
      "image/png": "[encoded data removed]",
      "text/plain": [
       "<Figure size 1296x576 with 4 Axes>"
      ]
     },
     "metadata": {
      "needs_background": "light"
     },
     "output_type": "display_data"
    }
   ],
   "source": [
    "plot_solution(geometry, discretization, unknowns)"
   ]
  },
  {
   "cell_type": "markdown",
   "metadata": {},
   "source": [
    "## Analyizing the convergence <div style=\"text-align: right\"> **[6 points]** </div>\n",
    "**Task** We want to compare the convergnce properties of our smoother with the v-cycle algorithm.\n",
    "Answer the following questions:\n",
    "- How many iterations are needed to get a residual lower than 1e-6?\n",
    "- How many prolongations, restrictions, and smoother steps are needed for one/all multigrid cycles?\n",
    "For the first one, write the code below, for the second one, write your answer in the following text field."
   ]
  },
  {
   "cell_type": "markdown",
   "metadata": {},
   "source": [
    "**Answer**: "
   ]
  },
  {
   "cell_type": "code",
   "execution_count": null,
   "metadata": {},
   "outputs": [],
   "source": [
    "# TODO Compute iterations for Jacobi"
   ]
  },
  {
   "cell_type": "code",
   "execution_count": null,
   "metadata": {},
   "outputs": [],
   "source": [
    "# TODO Compute iterations for v-cycle"
   ]
  },
  {
   "cell_type": "code",
   "execution_count": null,
   "metadata": {},
   "outputs": [],
   "source": []
  }
 ],
 "metadata": {
  "kernelspec": {
   "display_name": "Python 3",
   "language": "python",
   "name": "python3"
  },
  "language_info": {
   "codemirror_mode": {
    "name": "ipython",
    "version": 3
   },
   "file_extension": ".py",
   "mimetype": "text/x-python",
   "name": "python",
   "nbconvert_exporter": "python",
   "pygments_lexer": "ipython3",
   "version": "3.8.3"
  }
 },
 "nbformat": 4,
 "nbformat_minor": 4
}
